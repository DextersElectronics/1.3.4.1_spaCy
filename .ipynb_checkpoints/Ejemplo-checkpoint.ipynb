{
 "cells": [
  {
   "cell_type": "code",
   "execution_count": null,
   "id": "b4032a59-b814-4b14-8b18-d0d0b8ff9b6c",
   "metadata": {},
   "outputs": [],
   "source": [
    "# Pasos previos"
   ]
  },
  {
   "cell_type": "code",
   "execution_count": null,
   "id": "c865a954-45d1-48aa-af3e-437de9a64857",
   "metadata": {},
   "outputs": [],
   "source": [
    "# instalar spaCy\n",
    "!pip install spacy"
   ]
  },
  {
   "cell_type": "code",
   "execution_count": null,
   "id": "3724f07c-d641-4ab2-a8d8-d68f6cf3b9c0",
   "metadata": {},
   "outputs": [],
   "source": [
    "# instalar los modelos propios de la librería, para el ejemplo, uno en español\n",
    "!python3 -m spacy download es_core_news_sm"
   ]
  },
  {
   "cell_type": "code",
   "execution_count": 5,
   "id": "bbc67df1-c361-4dca-99e9-b8e4bc1185ce",
   "metadata": {},
   "outputs": [],
   "source": [
    "import spacy\n"
   ]
  },
  {
   "cell_type": "code",
   "execution_count": 9,
   "id": "bac5f3d8-09ae-4fe3-a4dc-587f4cf8b78f",
   "metadata": {},
   "outputs": [],
   "source": [
    "# usar un modelo propio de spaCy en español\n",
    "nlp = spacy.load(\"es_core_news_sm\")\n"
   ]
  },
  {
   "cell_type": "code",
   "execution_count": 13,
   "id": "1fde5351-8dbd-4b8c-9c04-283bcbfcb6cf",
   "metadata": {},
   "outputs": [],
   "source": [
    "texto = \"Mi maestría la estudio en la Universidad Técnica Particular de Loja. Loja es una provincia del Ecuador.\"\n"
   ]
  },
  {
   "cell_type": "code",
   "execution_count": 14,
   "id": "8f0c5f55-3bbc-408c-8c5e-edf796db5c3e",
   "metadata": {},
   "outputs": [],
   "source": [
    "documento = nlp(texto)"
   ]
  },
  {
   "cell_type": "code",
   "execution_count": 15,
   "id": "b5eef726-b3be-43b6-886f-e5d37ba4a1db",
   "metadata": {},
   "outputs": [
    {
     "name": "stdout",
     "output_type": "stream",
     "text": [
      "Mi maestría la estudio en la Universidad Técnica Particular de Loja.\n",
      "Loja es una provincia del Ecuador.\n"
     ]
    }
   ],
   "source": [
    "# proceso para determinar las oraciones\n",
    "for l in documento.sents:\n",
    "    print(l)"
   ]
  },
  {
   "cell_type": "code",
   "execution_count": 19,
   "id": "c8f7fdcf-cb42-4ef9-9363-ab8f42f3d2ad",
   "metadata": {},
   "outputs": [
    {
     "name": "stdout",
     "output_type": "stream",
     "text": [
      "Universidad Técnica Particular de ORG\n",
      "Loja PER\n",
      "Loja PER\n",
      "Ecuador LOC\n"
     ]
    }
   ],
   "source": [
    "# proceso para obtener las entidades de un texto\n",
    "for l in documento.ents:\n",
    "    print(l.text, l.label_)"
   ]
  },
  {
   "cell_type": "raw",
   "id": "ea9db265-3313-447b-a185-104ffde67a52",
   "metadata": {},
   "source": []
  }
 ],
 "metadata": {
  "kernelspec": {
   "display_name": "Python 3 (ipykernel)",
   "language": "python",
   "name": "python3"
  },
  "language_info": {
   "codemirror_mode": {
    "name": "ipython",
    "version": 3
   },
   "file_extension": ".py",
   "mimetype": "text/x-python",
   "name": "python",
   "nbconvert_exporter": "python",
   "pygments_lexer": "ipython3",
   "version": "3.10.12"
  }
 },
 "nbformat": 4,
 "nbformat_minor": 5
}
